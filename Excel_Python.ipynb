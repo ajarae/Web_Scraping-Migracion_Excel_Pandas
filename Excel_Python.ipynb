{
 "cells": [
  {
   "cell_type": "markdown",
   "metadata": {},
   "source": [
    "<center> <h1>Universidad Nacional de San Agustín de Arequipa</h1> </center> \n",
    "<center> <h1>Escuela Profesional de Ingeniería de Telecomunicaciones</h1> </center> \n",
    "\n",
    "<center> <h1> </h1> </center> \n",
    "\n",
    "<center><img src=\"https://user-images.githubusercontent.com/19308295/115939517-f1c6fe80-a463-11eb-989c-812ab4942586.png\" width=\"380\" height=\"420\"></center>"
   ]
  },
  {
   "cell_type": "markdown",
   "metadata": {},
   "source": [
    "<center> <h2>Ingeniero Renzo Bolivar - Docente DAIE</h2> </center> "
   ]
  },
  {
   "cell_type": "markdown",
   "metadata": {},
   "source": [
    "<center> <h2>Curso : Computación 2</h2> </center> "
   ]
  },
  {
   "cell_type": "markdown",
   "metadata": {},
   "source": [
    "<center> <h3> ALUMNOS: </h3><center> \n",
    "<center> <h3> PIERO ALVAREZ RODRIGO </h3><center>\n",
    "<center> <h3> NICOLAS YAMIL ESCOBAR VALDIVIA </h3><center> \n",
    "<center> <h3> ARNOLD JHONY JARA ESTEBAN </h3><center>\n",
    "<center> <h3> YEROEN FELIX MEDINA VILCA </h3><center> \n",
    "<center> <h3> MAX GEOVANNY NOA MAMANI </h3><center>\n",
    "<center> <h3> KARLO LUIS RAMIREZ TICONA </h3><center>\n",
    "<center> <h3> DAVID GEORDY VILCA CONDE </h3><center>"
   ]
  },
  {
   "cell_type": "markdown",
   "metadata": {},
   "source": [
    "![linea 1](https://user-images.githubusercontent.com/19308295/115926252-2b8a0c00-a448-11eb-9d9c-b43beaf0ff68.png)"
   ]
  },
  {
   "cell_type": "markdown",
   "metadata": {},
   "source": [
    "<div class=\"well\">Abrir un archivo Excel <code> .xlsx</code> (archivo en carpeta /data) y Visualizarlo en Python\n",
    "\n",
    "    \n",
    "</div>"
   ]
  },
  {
   "cell_type": "code",
   "execution_count": 1,
   "metadata": {},
   "outputs": [],
   "source": [
    "#Librerías\n",
    "import numpy as np\n",
    "import pandas as pd\n",
    "import matplotlib.pyplot as plt\n",
    "from scipy.stats import norm"
   ]
  },
  {
   "cell_type": "code",
   "execution_count": 6,
   "metadata": {},
   "outputs": [
    {
     "data": {
      "text/html": [
       "<div>\n",
       "<style scoped>\n",
       "    .dataframe tbody tr th:only-of-type {\n",
       "        vertical-align: middle;\n",
       "    }\n",
       "\n",
       "    .dataframe tbody tr th {\n",
       "        vertical-align: top;\n",
       "    }\n",
       "\n",
       "    .dataframe thead th {\n",
       "        text-align: right;\n",
       "    }\n",
       "</style>\n",
       "<table border=\"1\" class=\"dataframe\">\n",
       "  <thead>\n",
       "    <tr style=\"text-align: right;\">\n",
       "      <th></th>\n",
       "      <th>Hombre-Estaturas</th>\n",
       "      <th>Hombre-Pesos</th>\n",
       "      <th>Mujeres-Estaturas</th>\n",
       "      <th>Mujeres-Pesos</th>\n",
       "    </tr>\n",
       "  </thead>\n",
       "  <tbody>\n",
       "    <tr>\n",
       "      <th>0</th>\n",
       "      <td>176.650181</td>\n",
       "      <td>72.692864</td>\n",
       "      <td>150.504182</td>\n",
       "      <td>81.557283</td>\n",
       "    </tr>\n",
       "    <tr>\n",
       "      <th>1</th>\n",
       "      <td>176.192195</td>\n",
       "      <td>52.970185</td>\n",
       "      <td>162.382275</td>\n",
       "      <td>76.999842</td>\n",
       "    </tr>\n",
       "    <tr>\n",
       "      <th>2</th>\n",
       "      <td>168.129048</td>\n",
       "      <td>59.916524</td>\n",
       "      <td>164.943047</td>\n",
       "      <td>61.694795</td>\n",
       "    </tr>\n",
       "    <tr>\n",
       "      <th>3</th>\n",
       "      <td>176.650181</td>\n",
       "      <td>61.218067</td>\n",
       "      <td>154.259057</td>\n",
       "      <td>65.940165</td>\n",
       "    </tr>\n",
       "    <tr>\n",
       "      <th>4</th>\n",
       "      <td>172.779807</td>\n",
       "      <td>83.327952</td>\n",
       "      <td>164.360289</td>\n",
       "      <td>53.633681</td>\n",
       "    </tr>\n",
       "  </tbody>\n",
       "</table>\n",
       "</div>"
      ],
      "text/plain": [
       "   Hombre-Estaturas  Hombre-Pesos  Mujeres-Estaturas  Mujeres-Pesos\n",
       "0        176.650181     72.692864         150.504182      81.557283\n",
       "1        176.192195     52.970185         162.382275      76.999842\n",
       "2        168.129048     59.916524         164.943047      61.694795\n",
       "3        176.650181     61.218067         154.259057      65.940165\n",
       "4        172.779807     83.327952         164.360289      53.633681"
      ]
     },
     "execution_count": 6,
     "metadata": {},
     "output_type": "execute_result"
    }
   ],
   "source": [
    "#Archivo\n",
    "df = pd.read_excel('gauss.xlsx')\n",
    "\n",
    "#Leer 5 primeras lineas\n",
    "df.head(5)"
   ]
  },
  {
   "cell_type": "code",
   "execution_count": 7,
   "metadata": {},
   "outputs": [
    {
     "data": {
      "text/plain": [
       "(642, 4)"
      ]
     },
     "execution_count": 7,
     "metadata": {},
     "output_type": "execute_result"
    }
   ],
   "source": [
    "df.shape\n"
   ]
  },
  {
   "cell_type": "code",
   "execution_count": 8,
   "metadata": {},
   "outputs": [
    {
     "data": {
      "text/html": [
       "<div>\n",
       "<style scoped>\n",
       "    .dataframe tbody tr th:only-of-type {\n",
       "        vertical-align: middle;\n",
       "    }\n",
       "\n",
       "    .dataframe tbody tr th {\n",
       "        vertical-align: top;\n",
       "    }\n",
       "\n",
       "    .dataframe thead th {\n",
       "        text-align: right;\n",
       "    }\n",
       "</style>\n",
       "<table border=\"1\" class=\"dataframe\">\n",
       "  <thead>\n",
       "    <tr style=\"text-align: right;\">\n",
       "      <th></th>\n",
       "      <th>count</th>\n",
       "      <th>mean</th>\n",
       "      <th>std</th>\n",
       "      <th>min</th>\n",
       "      <th>25%</th>\n",
       "      <th>50%</th>\n",
       "      <th>75%</th>\n",
       "      <th>max</th>\n",
       "    </tr>\n",
       "  </thead>\n",
       "  <tbody>\n",
       "    <tr>\n",
       "      <th>Hombre-Estaturas</th>\n",
       "      <td>642.0</td>\n",
       "      <td>166.988722</td>\n",
       "      <td>15.082788</td>\n",
       "      <td>132.104782</td>\n",
       "      <td>155.917297</td>\n",
       "      <td>167.752304</td>\n",
       "      <td>177.594538</td>\n",
       "      <td>201.895218</td>\n",
       "    </tr>\n",
       "    <tr>\n",
       "      <th>Hombre-Pesos</th>\n",
       "      <td>642.0</td>\n",
       "      <td>70.686806</td>\n",
       "      <td>12.456751</td>\n",
       "      <td>40.157478</td>\n",
       "      <td>61.321458</td>\n",
       "      <td>71.051997</td>\n",
       "      <td>79.581933</td>\n",
       "      <td>100.642522</td>\n",
       "    </tr>\n",
       "    <tr>\n",
       "      <th>Mujeres-Estaturas</th>\n",
       "      <td>642.0</td>\n",
       "      <td>160.952511</td>\n",
       "      <td>10.756832</td>\n",
       "      <td>135.410173</td>\n",
       "      <td>152.872685</td>\n",
       "      <td>160.724242</td>\n",
       "      <td>168.419387</td>\n",
       "      <td>186.589827</td>\n",
       "    </tr>\n",
       "    <tr>\n",
       "      <th>Mujeres-Pesos</th>\n",
       "      <td>642.0</td>\n",
       "      <td>62.111329</td>\n",
       "      <td>11.335851</td>\n",
       "      <td>34.983826</td>\n",
       "      <td>53.633681</td>\n",
       "      <td>61.996762</td>\n",
       "      <td>70.253756</td>\n",
       "      <td>90.816174</td>\n",
       "    </tr>\n",
       "  </tbody>\n",
       "</table>\n",
       "</div>"
      ],
      "text/plain": [
       "                   count        mean        std         min         25%  \\\n",
       "Hombre-Estaturas   642.0  166.988722  15.082788  132.104782  155.917297   \n",
       "Hombre-Pesos       642.0   70.686806  12.456751   40.157478   61.321458   \n",
       "Mujeres-Estaturas  642.0  160.952511  10.756832  135.410173  152.872685   \n",
       "Mujeres-Pesos      642.0   62.111329  11.335851   34.983826   53.633681   \n",
       "\n",
       "                          50%         75%         max  \n",
       "Hombre-Estaturas   167.752304  177.594538  201.895218  \n",
       "Hombre-Pesos        71.051997   79.581933  100.642522  \n",
       "Mujeres-Estaturas  160.724242  168.419387  186.589827  \n",
       "Mujeres-Pesos       61.996762   70.253756   90.816174  "
      ]
     },
     "execution_count": 8,
     "metadata": {},
     "output_type": "execute_result"
    }
   ],
   "source": [
    "df.describe().T"
   ]
  },
  {
   "cell_type": "code",
   "execution_count": 9,
   "metadata": {},
   "outputs": [
    {
     "data": {
      "text/plain": [
       "62.11132857130429"
      ]
     },
     "execution_count": 9,
     "metadata": {},
     "output_type": "execute_result"
    }
   ],
   "source": [
    "promedio = df['Mujeres-Pesos'].mean()\n",
    "promedio"
   ]
  },
  {
   "cell_type": "code",
   "execution_count": 10,
   "metadata": {},
   "outputs": [
    {
     "data": {
      "text/plain": [
       "90.8161744884901"
      ]
     },
     "execution_count": 10,
     "metadata": {},
     "output_type": "execute_result"
    }
   ],
   "source": [
    "maximo = df['Mujeres-Pesos'].max()\n",
    "maximo"
   ]
  },
  {
   "cell_type": "code",
   "execution_count": 11,
   "metadata": {},
   "outputs": [
    {
     "data": {
      "text/plain": [
       "34.9838255115099"
      ]
     },
     "execution_count": 11,
     "metadata": {},
     "output_type": "execute_result"
    }
   ],
   "source": [
    "minimo = df['Mujeres-Pesos'].min()\n",
    "minimo"
   ]
  },
  {
   "cell_type": "code",
   "execution_count": 12,
   "metadata": {},
   "outputs": [
    {
     "data": {
      "text/plain": [
       "11.335850919081508"
      ]
     },
     "execution_count": 12,
     "metadata": {},
     "output_type": "execute_result"
    }
   ],
   "source": [
    "desviacion_Standr = df['Mujeres-Pesos'].std()\n",
    "desviacion_Standr"
   ]
  },
  {
   "cell_type": "code",
   "execution_count": 23,
   "metadata": {},
   "outputs": [
    {
     "data": {
      "image/png": "[encoded data removed]",
      "text/plain": [
       "<Figure size 640x480 with 1 Axes>"
      ]
     },
     "metadata": {},
     "output_type": "display_data"
    }
   ],
   "source": [
    "import pandas as pd\n",
    "import matplotlib.pyplot as plt\n",
    "import numpy as np\n",
    "from scipy.stats import norm\n",
    "\n",
    "\n",
    "# Leer los datos de Excel utilizando pandas\n",
    "dataframe = pd.read_excel('gauss.xlsx', 'Estaturas y Pesos')\n",
    "\n",
    "# Obtener los valores de la columna que contiene los datos de interés\n",
    "data = dataframe['Mujeres-Pesos'].values\n",
    "\n",
    "# Calcular la media y la desviación estándar de los datos\n",
    "mu = np.mean(data)\n",
    "sigma = np.std(data)\n",
    "\n",
    "# Generar un rango de valores para el eje x del gráfico\n",
    "x = np.linspace(mu - 3*sigma, mu + 3*sigma, 100)\n",
    "\n",
    "# Calcular los valores correspondientes de la distribución normal en el rango dado\n",
    "y = norm.pdf(x, mu, sigma)\n",
    "\n",
    "# Crear el gráfico de la campana de Gauss\n",
    "plt.plot(x, y)\n",
    "plt.xlabel('Valores de los Pesos')\n",
    "plt.ylabel('Densidad de probabilidad')\n",
    "plt.title('Campana de Gauss de los Pesos de las Mujeres')\n",
    "plt.grid(True)\n",
    "plt.show()\n"
   ]
  },
  {
   "cell_type": "code",
   "execution_count": null,
   "metadata": {},
   "outputs": [],
   "source": []
  },
  {
   "cell_type": "markdown",
   "metadata": {},
   "source": [
    "## <font color=#33A5FF>****BIBLIOGRAFÍA****<tfont>"
   ]
  },
  {
   "cell_type": "markdown",
   "metadata": {},
   "source": [
    "[1] Guía de pandas oficial https://pandas.pydata.org/docs/user_guide/index.html\n",
    "\n",
    "[2] Python Pandas Tutorial: A Complete Introduction for Beginners https://bit.ly/2AQMQld\n",
    "\n",
    "[3] Guía para pandas https://pybonacci.org/2014/05/30/pandas-i/\n",
    "\n",
    "[4] Dataset variados https://www.kaggle.com/datasets"
   ]
  },
  {
   "cell_type": "markdown",
   "metadata": {},
   "source": [
    "![linea 1](https://user-images.githubusercontent.com/19308295/115926252-2b8a0c00-a448-11eb-9d9c-b43beaf0ff68.png)"
   ]
  }
 ],
 "metadata": {
  "kernelspec": {
   "display_name": "Python 3 (ipykernel)",
   "language": "python",
   "name": "python3"
  },
  "language_info": {
   "codemirror_mode": {
    "name": "ipython",
    "version": 3
   },
   "file_extension": ".py",
   "mimetype": "text/x-python",
   "name": "python",
   "nbconvert_exporter": "python",
   "pygments_lexer": "ipython3",
   "version": "3.10.11"
  }
 },
 "nbformat": 4,
 "nbformat_minor": 4
}
